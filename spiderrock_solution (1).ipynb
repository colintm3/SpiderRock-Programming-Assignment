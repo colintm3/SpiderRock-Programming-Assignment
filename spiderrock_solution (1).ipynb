{
  "nbformat": 4,
  "nbformat_minor": 0,
  "metadata": {
    "colab": {
      "provenance": []
    },
    "kernelspec": {
      "name": "python3",
      "display_name": "Python 3"
    },
    "language_info": {
      "name": "python"
    }
  },
  "cells": [
    {
      "cell_type": "code",
      "execution_count": 38,
      "metadata": {
        "colab": {
          "base_uri": "https://localhost:8080/"
        },
        "id": "p8lZDXh03Ay0",
        "outputId": "9f3cae92-d5f6-4f59-dc34-54a296e2fdb3"
      },
      "outputs": [
        {
          "output_type": "stream",
          "name": "stdout",
          "text": [
            "Error: tag 600 repeated in message 8=FIX.4.2|9=0314|35=AB|34=000000011|1=SPDRT1|11=10109A9578A82AAA|100=1|21=1|38=10|40=2|44=-3.98|54=1|55=BA|59=0|167=MLEG|207=XASE|60=20181127-16:46:07.996|204=8|555=2|600=BA|608=OP|609=OPT|611=20181109|612=360|654=EA628EA5B0F8186|623=1|624=2|564=O|600=BA|608=OP|609=OPT|611=20181109|612=362.5|654=EA628EA5B0F8187|623=1|624=2|564=O|10=195|\n",
            "\n",
            "Error: tag 600 repeated in message 8=FIX.4.2|9=0308|35=AB|34=000000000|1=H20466|11=AFCDAF7E0FC8141|100=N|21=1|38=50|40=2|44=-11.7|54=1|55=NVDA|59=0|167=MLEG|60=20181127-16:46:07.996|204=0|555=3|600=NVDA|608=OP|609=OPT|611=20200117|612=215|654=EA61EEBE5226038|623=2|624=1|564=O|600=NVDA|608=OP|609=OPT|611=20210115|612=190|654=EA61EEBE5226039|623=1|624=2|564=O|10=078|\n",
            "\n",
            "Error: tag 9303 repeated in message 8=FIX.4.2|9=0151|35=D|34=000000014|1=SPDRT1|11=DB95A6B1070A29C|9303=Y|38=100|40=2|44=266.04|54=1|55=SPY|59=0|60=20181127-16:46:07.996|100=XNYS|9416=A|9303=N|528=A|386=1|336=2|10=028|\n",
            "\n",
            "Error: tag 55 repeated in message 8=FIX.4.2|9=0151|35=D|34=000000000|1=SPDRT1|11=DB95A6B1070A29C|38=100|40=2|44=256.04|54=1|55=SPY|55=SPY|59=0|60=20181127-16:46:07.996|100=XNYS|9416=A|9303=N|528=A|386=1|336=2|10=027|\n",
            "\n",
            "Account 396CCS101: highest price=68.2, lowest price=0.67\n",
            "Account SPDRT1: highest price=266.04, lowest price=256.04\n"
          ]
        }
      ],
      "source": [
        "def parse_fix_message(message):\n",
        "    fields = message.split('|')\n",
        "    fields_by_tag = {}\n",
        "    group_counts = {}\n",
        "\n",
        "    for field in fields:\n",
        "      if \"=\" in field:\n",
        "        tag, value = field.split('=')\n",
        "        if tag in fields_by_tag:\n",
        "            return f'Error: tag {tag} repeated in message {message}'\n",
        "        if tag.isdigit() and int(tag) in [279, 280]:\n",
        "            count = value.count('\\x01') + 1\n",
        "            if tag in group_counts and group_counts[tag] != count:\n",
        "              return f'ERROR: Repeating group with different count in message {message}'\n",
        "              break\n",
        "            else:\n",
        "              group_counts[tag] = count\n",
        "        fields_by_tag[tag] = value\n",
        "    return fields_by_tag\n",
        "\n",
        "\n",
        "def process_fix_messages(filepath):\n",
        "    # Initialize variables to store results\n",
        "    error_messages = []\n",
        "    prices_by_account = {}\n",
        "\n",
        "    with open(filepath, 'r') as f:\n",
        "        for line in f:\n",
        "            if not line:\n",
        "                continue\n",
        "            if line[-1] == '\\n':\n",
        "                line = line[:-1]\n",
        "\n",
        "            # Parse the message\n",
        "            fields = parse_fix_message(line)\n",
        "            if isinstance(fields, str):\n",
        "                error_messages.append(fields)\n",
        "                continue\n",
        "\n",
        "            # Check if the message is a New Order Single\n",
        "            if fields['35'] == 'D':\n",
        "                account = fields['1']\n",
        "                price = float(fields['44'])\n",
        "                if account not in prices_by_account:\n",
        "                    prices_by_account[account] = {'highest': price, 'lowest': price}\n",
        "                else:\n",
        "                    prices_by_account[account]['highest'] = max(prices_by_account[account]['highest'], price)\n",
        "                    prices_by_account[account]['lowest'] = min(prices_by_account[account]['lowest'], price)\n",
        "\n",
        "    return error_messages, prices_by_account\n",
        "\n",
        "\n",
        "if __name__ == '__main__':\n",
        "    filepath = 'Fix.Sample.txt'\n",
        "    error_messages, prices_by_account = process_fix_messages(filepath)\n",
        "\n",
        "    # Output error messages\n",
        "    for error in error_messages:\n",
        "        print(error)\n",
        "        print()\n",
        "\n",
        "    # Output highest and lowest prices by account\n",
        "    for account in prices_by_account:\n",
        "        print(f'Account {account}: highest price={prices_by_account[account][\"highest\"]}, lowest price={prices_by_account[account][\"lowest\"]}')\n"
      ]
    },
    {
      "cell_type": "code",
      "source": [],
      "metadata": {
        "id": "L2SG3ZxNsVPg"
      },
      "execution_count": null,
      "outputs": []
    }
  ]
}